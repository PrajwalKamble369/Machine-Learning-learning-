version https://git-lfs.github.com/spec/v1
oid sha256:34c8d10efd380ab74cca049a0d3092aadfd6e8ae18d3d0e7c90013ed54bb7131
size 142363
