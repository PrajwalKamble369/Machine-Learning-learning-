version https://git-lfs.github.com/spec/v1
oid sha256:ec61a274d45a4a21f08199ee47eb200a3b17c93008b3f3f86144ed70d05be026
size 622
